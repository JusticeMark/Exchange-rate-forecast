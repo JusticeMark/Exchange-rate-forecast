{
 "cells": [
  {
   "cell_type": "code",
   "execution_count": 4,
   "id": "81d6286c",
   "metadata": {},
   "outputs": [
    {
     "name": "stderr",
     "output_type": "stream",
     "text": [
      "C:\\conda_tmp\\ipykernel_13164\\487567712.py:27: DeprecationWarning: find_element_by_name is deprecated. Please use find_element(by=By.NAME, value=name) instead\n",
      "  select = Select(browser.find_element_by_name('currency')).select_by_index(12)\n"
     ]
    },
    {
     "name": "stdout",
     "output_type": "stream",
     "text": [
      "Data prognoza: 2022-05-31 00:00:00\n",
      "Nume valuta: Leul moldovenesc\n",
      "\n",
      "Curs prognozat: 0.2424\n",
      "Interval de incredere 95%: [0.2397 , 0.2452]\n"
     ]
    }
   ],
   "source": [
    "import itertools\n",
    "\n",
    "from bs4 import BeautifulSoup\n",
    "from pandas import DataFrame \n",
    "from pandas import read_csv\n",
    "from selenium import webdriver\n",
    "from selenium.webdriver.common.by import By\n",
    "from selenium.webdriver.support.ui import WebDriverWait\n",
    "from selenium.webdriver.support.ui import Select\n",
    "from selenium.webdriver.chrome.options import Options\n",
    "\n",
    "from statsmodels.tsa.arima.model import ARIMA\n",
    "from warnings import filterwarnings\n",
    "\n",
    "\n",
    "#precizati numele valutei folosite - in cazul meu e 'dummy':\n",
    "nume_valuta = 'Leul moldovenesc'\n",
    "\n",
    "# generam un browser 'silently'\n",
    "chrome_options = Options()\n",
    "chrome_options.add_argument(\"--headless\")\n",
    "browser = webdriver.Chrome(options = chrome_options)\n",
    "\n",
    "#navigare la pagina de interes (in cazul meu e cea de mai jos. in cazul vostru:\n",
    "# https://www.cursbnr.ro/curs-valutar-bnr)\n",
    "browser.get('https://www.cursbnr.ro/curs-valutar-bnr')\n",
    "select = Select(browser.find_element_by_name('currency')).select_by_index(12)\n",
    "start_date = browser.find_element(By.XPATH,\"//input [@class='form-control input-sm']\")\n",
    "\n",
    "# stergem valoare curenta\n",
    "start_date.clear()\n",
    "\n",
    "# setam noua valoare\n",
    "start_date.send_keys(\"27/03/2005\")\n",
    "browser.find_element(By.ID,\"formbuton\").click()\n",
    "\n",
    "# culegel html-ul\n",
    "html = browser.page_source\n",
    "\n",
    "# parsam html-ul in cautarea tabele cu seria\n",
    "soup = BeautifulSoup(html.lower(), \"html.parser\")\n",
    "\n",
    "# extragem seria - gasiti id-ul tabelei voastre\n",
    "lista_tr = soup.find( attrs={'class':'table-responsive'}).find('tbody').find_all('tr')\n",
    "lista_dict = []\n",
    "\n",
    "for i in range(len(lista_tr)):\n",
    "    \n",
    "    row_dict = {}\n",
    "    lista_td = lista_tr[i].find_all('td')\n",
    "    \n",
    "    # in cazul meu extra coloana 1 si coloana 3, cu nume valuta si curs:       \n",
    "#     row_dict['valuta'] = lista_td[0].text\n",
    "#     row_dict['curs vs RON'] = lista_td[2].text\n",
    "#     lista_dict.append(row_dict)\n",
    "    \n",
    "    # VOI trebuie sa culegeti coloanele 1 si 2, cu data si cursul istoric\n",
    "    row_dict['Data'] = lista_td[0].text\n",
    "    row_dict['Curs_MDL'] = lista_td[1].text\n",
    "    lista_dict.append(row_dict)\n",
    " \n",
    "# inchidem browserul\n",
    "browser.close()\n",
    "\n",
    "# definim seria\n",
    "dfSchimb = DataFrame(lista_dict)\n",
    "\n",
    "# salvati seria - eu comentez pentru ca  ce salvez eu e diferit de ce trebuie\n",
    "#dfSchimb.to_csv('serie_valutara.csv')\n",
    "filterwarnings('ignore', 'and will be removed')\n",
    "# eu aici voi incarca seria lab9.csv redenumita de catre mine serie_valutara pt acest laborator\n",
    "dfSchimb = read_csv('serie_valutara.csv', header = 0, parse_dates = ['Data'],infer_datetime_format=True)\n",
    "\n",
    "#indexam dupa data cu frecventa la zi\n",
    "dfSchimb = dfSchimb.set_index('Data').asfreq('D')\n",
    "\n",
    "# umplem golurile din weekenduri si sarbatori legale\n",
    "dfSchimb.Curs_MDL=dfSchimb.Curs_MDL.fillna(method=\"ffill\")\n",
    "\n",
    "#pregatim antrenarea\n",
    "p = d = q = range(0, 3)\n",
    "pdq = list(itertools.product(p, d, q))\n",
    "\n",
    "# antrenam pe tot istoricul\n",
    "#Se cauta printre parametrii acea combinatie care minimizeaza AIC (Akaike Information Criterion) \n",
    "\n",
    "dict_list = []\n",
    "\n",
    "# inhibam mesajul detip warning de non-convergenta - ca sa nu se afiseze \n",
    "filterwarnings('ignore', '.*failed to converge.*', )\n",
    "\n",
    "for param in pdq:\n",
    "    #for param_seasonal in seasonal_pdq:\n",
    "        try:\n",
    "            mod = ARIMA(dfSchimb.Curs_MDL,\n",
    "                            order=param,\n",
    "                            enforce_stationarity=False,\n",
    "                            enforce_invertibility=False)\n",
    "            results = mod.fit()\n",
    "            \n",
    "            # lista cu dictionare de valori; aceleasi key inseamna ca la final vom putea transforma lista in dataframe\n",
    "            dict_list.append({'pdq':param,\n",
    "                              #'seasonal_pdq':param_seasonal,\n",
    "                             'AIC':results.aic })\n",
    "            \n",
    "            #print('ARIMA{}x{}12 - AIC:{}'.format(param, param_seasonal, results.aic))\n",
    "        except:\n",
    "            continue\n",
    "            \n",
    "df_results = DataFrame(dict_list).sort_values(by = 'AIC', ascending = True)\n",
    "\n",
    "# culegem cel mai bun parametru si reantrenam\n",
    "mod = ARIMA(dfSchimb.Curs_MDL,\n",
    "            order=df_results.pdq.values[0],\n",
    "\n",
    "            enforce_stationarity=False,\n",
    "            enforce_invertibility=False)\n",
    "\n",
    "results = mod.fit()\n",
    "\n",
    "#print(results.summary().tables[1])\n",
    "\n",
    "prognoza_de_maine =  results.get_forecast(steps =1)# + timedelta(days=t)) for t in range(test_horizon)]\n",
    "print('Data prognoza:',prognoza_de_maine.predicted_mean.index[0])\n",
    "print('Nume valuta:', nume_valuta)\n",
    "print('\\nCurs prognozat: %.4f' % prognoza_de_maine.predicted_mean.values[0])\n",
    "\n",
    "print('Interval de incredere 95%: [{} , {}]'.format( round(prognoza_de_maine.conf_int().values[0][0],4),\n",
    "                                                    round(prognoza_de_maine.conf_int().values[0][1],4))) "
   ]
  },
  {
   "cell_type": "code",
   "execution_count": 5,
   "id": "d9718431",
   "metadata": {},
   "outputs": [
    {
     "name": "stdout",
     "output_type": "stream",
     "text": [
      "==============================================================================\n",
      "                 coef    std err          z      P>|z|      [0.025      0.975]\n",
      "------------------------------------------------------------------------------\n",
      "const          0.2394      0.012     20.521      0.000       0.217       0.262\n",
      "ar.L1          0.9982      0.001   1545.396      0.000       0.997       0.999\n",
      "ma.L1          0.0715      0.007      9.631      0.000       0.057       0.086\n",
      "sigma2      2.011e-06   1.23e-08    163.507      0.000    1.99e-06    2.04e-06\n",
      "==============================================================================\n",
      "Data prognoza: 2022-05-31 00:00:00\n",
      "\n",
      "Curs prognozat: 0.2424\n",
      "Interval de incredere 95%: [0.2397 , 0.2452]\n"
     ]
    }
   ],
   "source": [
    "mod = ARIMA(dfSchimb.Curs_MDL,\n",
    "            order=df_results.pdq.values[0],\n",
    "\n",
    "            enforce_stationarity=False,\n",
    "            enforce_invertibility=False)\n",
    "\n",
    "results = mod.fit()\n",
    "\n",
    "print(results.summary().tables[1])\n",
    "\n",
    "prognoza_de_maine =  results.get_forecast(steps =1)# + timedelta(days=t)) for t in range(test_horizon)]\n",
    "print('Data prognoza:',prognoza_de_maine.predicted_mean.index[0])\n",
    "print('\\nCurs prognozat: %.4f' % prognoza_de_maine.predicted_mean.values[0])\n",
    "\n",
    "print('Interval de incredere 95%: [{} , {}]'.format( round(prognoza_de_maine.conf_int().values[0][0],4),\n",
    "                                                    round(prognoza_de_maine.conf_int().values[0][1],4))) "
   ]
  },
  {
   "cell_type": "code",
   "execution_count": 6,
   "id": "70bb0560",
   "metadata": {},
   "outputs": [
    {
     "data": {
      "text/plain": [
       "array([0.23965843, 0.24521745])"
      ]
     },
     "execution_count": 6,
     "metadata": {},
     "output_type": "execute_result"
    }
   ],
   "source": [
    "prognoza_de_maine.conf_int().values[0]"
   ]
  },
  {
   "cell_type": "code",
   "execution_count": null,
   "id": "cf192132",
   "metadata": {},
   "outputs": [],
   "source": []
  }
 ],
 "metadata": {
  "kernelspec": {
   "display_name": "Python 3 (ipykernel)",
   "language": "python",
   "name": "python3"
  },
  "language_info": {
   "codemirror_mode": {
    "name": "ipython",
    "version": 3
   },
   "file_extension": ".py",
   "mimetype": "text/x-python",
   "name": "python",
   "nbconvert_exporter": "python",
   "pygments_lexer": "ipython3",
   "version": "3.9.7"
  }
 },
 "nbformat": 4,
 "nbformat_minor": 5
}
